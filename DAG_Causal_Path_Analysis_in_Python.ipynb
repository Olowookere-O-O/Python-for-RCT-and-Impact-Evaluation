{
  "nbformat": 4,
  "nbformat_minor": 0,
  "metadata": {
    "colab": {
      "provenance": [],
      "authorship_tag": "ABX9TyMuKJsrVFVMeuIs8uoRkztC",
      "include_colab_link": true
    },
    "kernelspec": {
      "name": "python3",
      "display_name": "Python 3"
    },
    "language_info": {
      "name": "python"
    }
  },
  "cells": [
    {
      "cell_type": "markdown",
      "metadata": {
        "id": "view-in-github",
        "colab_type": "text"
      },
      "source": [
        "<a href=\"https://colab.research.google.com/github/Olowookere-O-O/Python-for-RCT-and-Impact-Evaluation/blob/main/DAG_Causal_Path_Analysis_in_Python.ipynb\" target=\"_parent\"><img src=\"https://colab.research.google.com/assets/colab-badge.svg\" alt=\"Open In Colab\"/></a>"
      ]
    },
    {
      "cell_type": "code",
      "execution_count": 10,
      "metadata": {
        "id": "Z43R5UT6oEdM"
      },
      "outputs": [],
      "source": [
        "## Packages\n",
        "import pandas as pd\n",
        "import numpy as np\n",
        "import graphviz as gr"
      ]
    },
    {
      "cell_type": "code",
      "source": [
        "# Set seed for reproducibility\n",
        "np.random.seed(42)\n",
        "desired_mean = [0.575, 20.744, 0.074] ## Mean copied from the author\n",
        "desired_std = [0.042, 2.013, 0.040] ## Std copied from the author\n",
        "# Generate random data\n",
        "num_rows = 323  # to match the provided DataFrame\n",
        "gender = np.random.choice([0, 1], size=num_rows)\n",
        "cross_sell_email = np.random.choice(['short', 'long', 'no_email'], size=num_rows)\n",
        "age = np.random.normal(loc=desired_mean[1], scale=desired_std[1], size=num_rows)\n",
        "conversion = np.random.normal(loc=desired_mean[2], scale=desired_std[2], size=num_rows)\n",
        "data = pd.DataFrame({'gender': gender, 'cross_sell_email': cross_sell_email, 'age': age, 'conversion': conversion})\n"
      ],
      "metadata": {
        "id": "F8lty7v1ojbZ"
      },
      "execution_count": 8,
      "outputs": []
    },
    {
      "cell_type": "code",
      "source": [
        "print(data)"
      ],
      "metadata": {
        "colab": {
          "base_uri": "https://localhost:8080/",
          "height": 0
        },
        "id": "rqXL8JoTpXBp",
        "outputId": "2fc8ab9a-9bb0-4280-cd70-7be906489d21"
      },
      "execution_count": 9,
      "outputs": [
        {
          "output_type": "stream",
          "name": "stdout",
          "text": [
            "     gender cross_sell_email        age  conversion\n",
            "0         0             long  24.509163    0.015912\n",
            "1         1             long  24.141978    0.106548\n",
            "2         0             long  19.505511    0.013953\n",
            "3         0         no_email  21.514575    0.063247\n",
            "4         0         no_email  21.734680    0.056405\n",
            "..      ...              ...        ...         ...\n",
            "318       0            short  23.123314    0.054212\n",
            "319       1            short  21.465000    0.045063\n",
            "320       1             long  20.518599    0.103246\n",
            "321       0            short  21.401090    0.091234\n",
            "322       1            short  19.924821    0.083732\n",
            "\n",
            "[323 rows x 4 columns]\n"
          ]
        }
      ]
    },
    {
      "cell_type": "code",
      "source": [
        "## Drawing DAG path analysis\n",
        "g_cross_sell = gr.Digraph(graph_attr={\"rankdir\": \"LR\"} ## LR helps to rank graph from left to right\n",
        "                          )"
      ],
      "metadata": {
        "id": "yMyes_P_tl4f"
      },
      "execution_count": 25,
      "outputs": []
    },
    {
      "cell_type": "code",
      "source": [
        "g_cross_sell.edge(\"U\", \"conversion\") ## Designing the nodes\n",
        "g_cross_sell.edge(\"U\", \"age\")\n",
        "g_cross_sell.edge(\"U\", \"gender\")"
      ],
      "metadata": {
        "id": "ELbUeSBetshX"
      },
      "execution_count": 22,
      "outputs": []
    },
    {
      "cell_type": "code",
      "source": [
        "g_cross_sell.edge(\"rnd\", \"cross_sell_email\")\n",
        "g_cross_sell.edge(\"cross_sell_email\", \"conversion\")\n",
        "g_cross_sell.edge(\"age\", \"conversion\")\n",
        "g_cross_sell.edge(\"gender\", \"conversion\")"
      ],
      "metadata": {
        "id": "b7u9NFwWqV2G"
      },
      "execution_count": 23,
      "outputs": []
    },
    {
      "cell_type": "code",
      "source": [
        "g_cross_sell"
      ],
      "metadata": {
        "colab": {
          "base_uri": "https://localhost:8080/",
          "height": 252
        },
        "id": "aSSjBNm_uGGY",
        "outputId": "064e987f-8d19-49d8-a62f-25c40615839c"
      },
      "execution_count": 24,
      "outputs": [
        {
          "output_type": "execute_result",
          "data": {
            "image/svg+xml": "<?xml version=\"1.0\" encoding=\"UTF-8\" standalone=\"no\"?>\n<!DOCTYPE svg PUBLIC \"-//W3C//DTD SVG 1.1//EN\"\n \"http://www.w3.org/Graphics/SVG/1.1/DTD/svg11.dtd\">\n<!-- Generated by graphviz version 2.43.0 (0)\n -->\n<!-- Title: %3 Pages: 1 -->\n<svg width=\"372pt\" height=\"173pt\"\n viewBox=\"0.00 0.00 371.88 172.53\" xmlns=\"http://www.w3.org/2000/svg\" xmlns:xlink=\"http://www.w3.org/1999/xlink\">\n<g id=\"graph0\" class=\"graph\" transform=\"scale(1 1) rotate(0) translate(4 168.53)\">\n<title>%3</title>\n<polygon fill=\"white\" stroke=\"transparent\" points=\"-4,4 -4,-168.53 367.88,-168.53 367.88,4 -4,4\"/>\n<!-- U -->\n<g id=\"node1\" class=\"node\">\n<title>U</title>\n<ellipse fill=\"none\" stroke=\"black\" cx=\"27\" cy=\"-126\" rx=\"27\" ry=\"18\"/>\n<text text-anchor=\"middle\" x=\"27\" y=\"-122.3\" font-family=\"Times,serif\" font-size=\"14.00\">U</text>\n</g>\n<!-- conversion -->\n<g id=\"node2\" class=\"node\">\n<title>conversion</title>\n<ellipse fill=\"none\" stroke=\"black\" cx=\"314.48\" cy=\"-99\" rx=\"49.29\" ry=\"18\"/>\n<text text-anchor=\"middle\" x=\"314.48\" y=\"-95.3\" font-family=\"Times,serif\" font-size=\"14.00\">conversion</text>\n</g>\n<!-- U&#45;&gt;conversion -->\n<g id=\"edge1\" class=\"edge\">\n<title>U&#45;&gt;conversion</title>\n<path fill=\"none\" stroke=\"black\" d=\"M48.24,-137.34C60.03,-143.29 75.4,-149.96 90,-153 150.52,-165.61 169.76,-170.36 229.09,-153 250.08,-146.86 270.8,-133.73 286.47,-121.95\"/>\n<polygon fill=\"black\" stroke=\"black\" points=\"288.88,-124.51 294.61,-115.6 284.57,-118.99 288.88,-124.51\"/>\n</g>\n<!-- age -->\n<g id=\"node3\" class=\"node\">\n<title>age</title>\n<ellipse fill=\"none\" stroke=\"black\" cx=\"159.54\" cy=\"-126\" rx=\"27\" ry=\"18\"/>\n<text text-anchor=\"middle\" x=\"159.54\" y=\"-122.3\" font-family=\"Times,serif\" font-size=\"14.00\">age</text>\n</g>\n<!-- U&#45;&gt;age -->\n<g id=\"edge2\" class=\"edge\">\n<title>U&#45;&gt;age</title>\n<path fill=\"none\" stroke=\"black\" d=\"M54.1,-126C73.67,-126 100.69,-126 122.34,-126\"/>\n<polygon fill=\"black\" stroke=\"black\" points=\"122.49,-129.5 132.49,-126 122.49,-122.5 122.49,-129.5\"/>\n</g>\n<!-- gender -->\n<g id=\"node4\" class=\"node\">\n<title>gender</title>\n<ellipse fill=\"none\" stroke=\"black\" cx=\"159.54\" cy=\"-72\" rx=\"34.39\" ry=\"18\"/>\n<text text-anchor=\"middle\" x=\"159.54\" y=\"-68.3\" font-family=\"Times,serif\" font-size=\"14.00\">gender</text>\n</g>\n<!-- U&#45;&gt;gender -->\n<g id=\"edge3\" class=\"edge\">\n<title>U&#45;&gt;gender</title>\n<path fill=\"none\" stroke=\"black\" d=\"M50.01,-116.19C61.83,-110.98 76.66,-104.53 90,-99 100.3,-94.73 111.53,-90.24 121.86,-86.17\"/>\n<polygon fill=\"black\" stroke=\"black\" points=\"123.4,-89.33 131.43,-82.42 120.85,-82.81 123.4,-89.33\"/>\n</g>\n<!-- age&#45;&gt;conversion -->\n<g id=\"edge6\" class=\"edge\">\n<title>age&#45;&gt;conversion</title>\n<path fill=\"none\" stroke=\"black\" d=\"M185.8,-121.54C205.78,-118.01 234.4,-112.96 259.49,-108.53\"/>\n<polygon fill=\"black\" stroke=\"black\" points=\"260.38,-111.93 269.62,-106.74 259.16,-105.04 260.38,-111.93\"/>\n</g>\n<!-- gender&#45;&gt;conversion -->\n<g id=\"edge7\" class=\"edge\">\n<title>gender&#45;&gt;conversion</title>\n<path fill=\"none\" stroke=\"black\" d=\"M192.6,-77.66C211.97,-81.08 237.16,-85.53 259.53,-89.47\"/>\n<polygon fill=\"black\" stroke=\"black\" points=\"259.12,-92.96 269.57,-91.25 260.33,-86.06 259.12,-92.96\"/>\n</g>\n<!-- rnd -->\n<g id=\"node5\" class=\"node\">\n<title>rnd</title>\n<ellipse fill=\"none\" stroke=\"black\" cx=\"27\" cy=\"-18\" rx=\"27\" ry=\"18\"/>\n<text text-anchor=\"middle\" x=\"27\" y=\"-14.3\" font-family=\"Times,serif\" font-size=\"14.00\">rnd</text>\n</g>\n<!-- cross_sell_email -->\n<g id=\"node6\" class=\"node\">\n<title>cross_sell_email</title>\n<ellipse fill=\"none\" stroke=\"black\" cx=\"159.54\" cy=\"-18\" rx=\"69.59\" ry=\"18\"/>\n<text text-anchor=\"middle\" x=\"159.54\" y=\"-14.3\" font-family=\"Times,serif\" font-size=\"14.00\">cross_sell_email</text>\n</g>\n<!-- rnd&#45;&gt;cross_sell_email -->\n<g id=\"edge4\" class=\"edge\">\n<title>rnd&#45;&gt;cross_sell_email</title>\n<path fill=\"none\" stroke=\"black\" d=\"M54.1,-18C61.75,-18 70.54,-18 79.7,-18\"/>\n<polygon fill=\"black\" stroke=\"black\" points=\"79.76,-21.5 89.76,-18 79.76,-14.5 79.76,-21.5\"/>\n</g>\n<!-- cross_sell_email&#45;&gt;conversion -->\n<g id=\"edge5\" class=\"edge\">\n<title>cross_sell_email&#45;&gt;conversion</title>\n<path fill=\"none\" stroke=\"black\" d=\"M201.35,-32.57C210.62,-36.29 220.32,-40.52 229.09,-45 247.65,-54.48 267.32,-66.91 283,-77.46\"/>\n<polygon fill=\"black\" stroke=\"black\" points=\"281.03,-80.36 291.27,-83.1 284.98,-74.57 281.03,-80.36\"/>\n</g>\n</g>\n</svg>\n",
            "text/plain": [
              "<graphviz.graphs.Digraph at 0x7f8b049251b0>"
            ]
          },
          "metadata": {},
          "execution_count": 24
        }
      ]
    },
    {
      "cell_type": "code",
      "source": [
        "## Now since both age and gender are observables, let represent them with X\n",
        "g_cross_sell = gr.Digraph(graph_attr={\"rankdir\": \"LR\"} ## LR helps to rank graph from left to right\n",
        "                                          )"
      ],
      "metadata": {
        "id": "splhgDwtslvT"
      },
      "execution_count": 30,
      "outputs": []
    },
    {
      "cell_type": "code",
      "source": [
        "g_cross_sell.edge(\"U\", \"Conversion\")"
      ],
      "metadata": {
        "id": "4yHGwO1nxm6g"
      },
      "execution_count": 32,
      "outputs": []
    },
    {
      "cell_type": "code",
      "source": [
        "g_cross_sell.edge(\"U\", \"X\")"
      ],
      "metadata": {
        "id": "UIgHATWgxmrJ"
      },
      "execution_count": 33,
      "outputs": []
    },
    {
      "cell_type": "code",
      "source": [
        "g_cross_sell.edge(\"Cross_sell_email\", \"Conversion\")\n",
        "g_cross_sell.edge(\"X\", \"Conversion\")"
      ],
      "metadata": {
        "id": "YWKxXTgDtdjy"
      },
      "execution_count": 34,
      "outputs": []
    },
    {
      "cell_type": "code",
      "source": [
        "g_cross_sell"
      ],
      "metadata": {
        "colab": {
          "base_uri": "https://localhost:8080/",
          "height": 183
        },
        "id": "fPkbNJ1Ws61J",
        "outputId": "50100791-08dd-41d0-df16-9039a94f8f34"
      },
      "execution_count": 35,
      "outputs": [
        {
          "output_type": "execute_result",
          "data": {
            "image/svg+xml": "<?xml version=\"1.0\" encoding=\"UTF-8\" standalone=\"no\"?>\n<!DOCTYPE svg PUBLIC \"-//W3C//DTD SVG 1.1//EN\"\n \"http://www.w3.org/Graphics/SVG/1.1/DTD/svg11.dtd\">\n<!-- Generated by graphviz version 2.43.0 (0)\n -->\n<!-- Title: %3 Pages: 1 -->\n<svg width=\"380pt\" height=\"121pt\"\n viewBox=\"0.00 0.00 379.68 121.00\" xmlns=\"http://www.w3.org/2000/svg\" xmlns:xlink=\"http://www.w3.org/1999/xlink\">\n<g id=\"graph0\" class=\"graph\" transform=\"scale(1 1) rotate(0) translate(4 117)\">\n<title>%3</title>\n<polygon fill=\"white\" stroke=\"transparent\" points=\"-4,4 -4,-117 375.68,-117 375.68,4 -4,4\"/>\n<!-- U -->\n<g id=\"node1\" class=\"node\">\n<title>U</title>\n<ellipse fill=\"none\" stroke=\"black\" cx=\"27\" cy=\"-95\" rx=\"27\" ry=\"18\"/>\n<text text-anchor=\"middle\" x=\"27\" y=\"-91.3\" font-family=\"Times,serif\" font-size=\"14.00\">U</text>\n</g>\n<!-- Conversion -->\n<g id=\"node2\" class=\"node\">\n<title>Conversion</title>\n<ellipse fill=\"none\" stroke=\"black\" cx=\"320.33\" cy=\"-72\" rx=\"51.19\" ry=\"18\"/>\n<text text-anchor=\"middle\" x=\"320.33\" y=\"-68.3\" font-family=\"Times,serif\" font-size=\"14.00\">Conversion</text>\n</g>\n<!-- U&#45;&gt;Conversion -->\n<g id=\"edge1\" class=\"edge\">\n<title>U&#45;&gt;Conversion</title>\n<path fill=\"none\" stroke=\"black\" d=\"M53.75,-98.3C92.78,-102.67 169.12,-108.75 232.99,-99 247.23,-96.83 262.35,-92.74 275.9,-88.4\"/>\n<polygon fill=\"black\" stroke=\"black\" points=\"277.07,-91.7 285.44,-85.21 274.85,-85.06 277.07,-91.7\"/>\n</g>\n<!-- X -->\n<g id=\"node3\" class=\"node\">\n<title>X</title>\n<ellipse fill=\"none\" stroke=\"black\" cx=\"161.49\" cy=\"-72\" rx=\"27\" ry=\"18\"/>\n<text text-anchor=\"middle\" x=\"161.49\" y=\"-68.3\" font-family=\"Times,serif\" font-size=\"14.00\">X</text>\n</g>\n<!-- U&#45;&gt;X -->\n<g id=\"edge2\" class=\"edge\">\n<title>U&#45;&gt;X</title>\n<path fill=\"none\" stroke=\"black\" d=\"M53.23,-90.62C73.55,-87.09 102.34,-82.09 124.99,-78.16\"/>\n<polygon fill=\"black\" stroke=\"black\" points=\"125.65,-81.6 134.9,-76.44 124.45,-74.7 125.65,-81.6\"/>\n</g>\n<!-- X&#45;&gt;Conversion -->\n<g id=\"edge4\" class=\"edge\">\n<title>X&#45;&gt;Conversion</title>\n<path fill=\"none\" stroke=\"black\" d=\"M188.74,-72C207.82,-72 234.43,-72 258.66,-72\"/>\n<polygon fill=\"black\" stroke=\"black\" points=\"258.87,-75.5 268.87,-72 258.87,-68.5 258.87,-75.5\"/>\n</g>\n<!-- Cross_sell_email -->\n<g id=\"node4\" class=\"node\">\n<title>Cross_sell_email</title>\n<ellipse fill=\"none\" stroke=\"black\" cx=\"161.49\" cy=\"-18\" rx=\"71.49\" ry=\"18\"/>\n<text text-anchor=\"middle\" x=\"161.49\" y=\"-14.3\" font-family=\"Times,serif\" font-size=\"14.00\">Cross_sell_email</text>\n</g>\n<!-- Cross_sell_email&#45;&gt;Conversion -->\n<g id=\"edge3\" class=\"edge\">\n<title>Cross_sell_email&#45;&gt;Conversion</title>\n<path fill=\"none\" stroke=\"black\" d=\"M204.52,-32.47C225.77,-39.79 251.59,-48.68 273.36,-56.17\"/>\n<polygon fill=\"black\" stroke=\"black\" points=\"272.46,-59.56 283.05,-59.51 274.74,-52.94 272.46,-59.56\"/>\n</g>\n</g>\n</svg>\n",
            "text/plain": [
              "<graphviz.graphs.Digraph at 0x7f8acd3527a0>"
            ]
          },
          "metadata": {},
          "execution_count": 35
        }
      ]
    },
    {
      "cell_type": "code",
      "source": [
        "## Try writing your thesis mediation DAG\n",
        "thesis_DAG = gr.Digraph(graph_attr={\"rankdir\": \"LR\"})"
      ],
      "metadata": {
        "id": "n20AJQw5zlbQ"
      },
      "execution_count": 44,
      "outputs": []
    },
    {
      "cell_type": "code",
      "source": [
        "thesis_DAG.edge(\"ODA\", \"HO\")\n",
        "thesis_DAG.edge(\"ODA\", \"SP\")\n",
        "thesis_DAG.edge(\"SP\", \"HO\")"
      ],
      "metadata": {
        "id": "UUhHd9vE0-qb"
      },
      "execution_count": 45,
      "outputs": []
    },
    {
      "cell_type": "code",
      "source": [
        "thesis_DAG"
      ],
      "metadata": {
        "colab": {
          "base_uri": "https://localhost:8080/",
          "height": 111
        },
        "id": "V2hyd8321ZU5",
        "outputId": "5dd07d46-93d5-4735-f4b8-f27d9569e0d5"
      },
      "execution_count": 46,
      "outputs": [
        {
          "output_type": "execute_result",
          "data": {
            "image/svg+xml": "<?xml version=\"1.0\" encoding=\"UTF-8\" standalone=\"no\"?>\n<!DOCTYPE svg PUBLIC \"-//W3C//DTD SVG 1.1//EN\"\n \"http://www.w3.org/Graphics/SVG/1.1/DTD/svg11.dtd\">\n<!-- Generated by graphviz version 2.43.0 (0)\n -->\n<!-- Title: %3 Pages: 1 -->\n<svg width=\"248pt\" height=\"67pt\"\n viewBox=\"0.00 0.00 247.79 67.00\" xmlns=\"http://www.w3.org/2000/svg\" xmlns:xlink=\"http://www.w3.org/1999/xlink\">\n<g id=\"graph0\" class=\"graph\" transform=\"scale(1 1) rotate(0) translate(4 63)\">\n<title>%3</title>\n<polygon fill=\"white\" stroke=\"transparent\" points=\"-4,4 -4,-63 243.79,-63 243.79,4 -4,4\"/>\n<!-- ODA -->\n<g id=\"node1\" class=\"node\">\n<title>ODA</title>\n<ellipse fill=\"none\" stroke=\"black\" cx=\"29.9\" cy=\"-41\" rx=\"29.8\" ry=\"18\"/>\n<text text-anchor=\"middle\" x=\"29.9\" y=\"-37.3\" font-family=\"Times,serif\" font-size=\"14.00\">ODA</text>\n</g>\n<!-- HO -->\n<g id=\"node2\" class=\"node\">\n<title>HO</title>\n<ellipse fill=\"none\" stroke=\"black\" cx=\"212.79\" cy=\"-41\" rx=\"27\" ry=\"18\"/>\n<text text-anchor=\"middle\" x=\"212.79\" y=\"-37.3\" font-family=\"Times,serif\" font-size=\"14.00\">HO</text>\n</g>\n<!-- ODA&#45;&gt;HO -->\n<g id=\"edge1\" class=\"edge\">\n<title>ODA&#45;&gt;HO</title>\n<path fill=\"none\" stroke=\"black\" d=\"M59.63,-43.15C70.9,-43.9 83.95,-44.64 95.79,-45 119.78,-45.74 125.81,-45.77 149.79,-45 158.23,-44.73 167.29,-44.25 175.82,-43.72\"/>\n<polygon fill=\"black\" stroke=\"black\" points=\"176.12,-47.2 185.87,-43.05 175.66,-40.22 176.12,-47.2\"/>\n</g>\n<!-- SP -->\n<g id=\"node3\" class=\"node\">\n<title>SP</title>\n<ellipse fill=\"none\" stroke=\"black\" cx=\"122.79\" cy=\"-18\" rx=\"27\" ry=\"18\"/>\n<text text-anchor=\"middle\" x=\"122.79\" y=\"-14.3\" font-family=\"Times,serif\" font-size=\"14.00\">SP</text>\n</g>\n<!-- ODA&#45;&gt;SP -->\n<g id=\"edge2\" class=\"edge\">\n<title>ODA&#45;&gt;SP</title>\n<path fill=\"none\" stroke=\"black\" d=\"M57.68,-34.22C67.01,-31.86 77.6,-29.18 87.46,-26.69\"/>\n<polygon fill=\"black\" stroke=\"black\" points=\"88.54,-30.02 97.38,-24.18 86.82,-23.24 88.54,-30.02\"/>\n</g>\n<!-- SP&#45;&gt;HO -->\n<g id=\"edge3\" class=\"edge\">\n<title>SP&#45;&gt;HO</title>\n<path fill=\"none\" stroke=\"black\" d=\"M148.31,-24.41C157.37,-26.77 167.81,-29.5 177.57,-32.05\"/>\n<polygon fill=\"black\" stroke=\"black\" points=\"176.85,-35.49 187.41,-34.63 178.62,-28.71 176.85,-35.49\"/>\n</g>\n</g>\n</svg>\n",
            "text/plain": [
              "<graphviz.graphs.Digraph at 0x7f8acd223580>"
            ]
          },
          "metadata": {},
          "execution_count": 46
        }
      ]
    },
    {
      "cell_type": "code",
      "source": [
        "## More complicated causal chain\n",
        "import networkx as nx"
      ],
      "metadata": {
        "id": "RQPmboMt1cXL"
      },
      "execution_count": 47,
      "outputs": []
    },
    {
      "cell_type": "code",
      "source": [
        "model_DAG = gr.Digraph(graph_attr={\"rankdir\": \"LR\"})\n",
        "model_DAG.edge(\"C\", \"A\")\n",
        "model_DAG.edge(\"C\", \"B\")\n",
        "model_DAG.edge(\"B\", \"E\")\n",
        "model_DAG.edge(\"D\", \"A\")\n",
        "model_DAG.edge(\"A\", \"G\")\n",
        "model_DAG.edge(\"F\", \"E\")"
      ],
      "metadata": {
        "id": "nF-Z-3pQRYeJ"
      },
      "execution_count": 58,
      "outputs": []
    },
    {
      "cell_type": "code",
      "source": [
        "model_DAG"
      ],
      "metadata": {
        "colab": {
          "base_uri": "https://localhost:8080/",
          "height": 224
        },
        "id": "OPaTJAyoSMvS",
        "outputId": "020dbf8b-4972-46c8-a0f8-135ea008f933"
      },
      "execution_count": 59,
      "outputs": [
        {
          "output_type": "execute_result",
          "data": {
            "image/svg+xml": "<?xml version=\"1.0\" encoding=\"UTF-8\" standalone=\"no\"?>\n<!DOCTYPE svg PUBLIC \"-//W3C//DTD SVG 1.1//EN\"\n \"http://www.w3.org/Graphics/SVG/1.1/DTD/svg11.dtd\">\n<!-- Generated by graphviz version 2.43.0 (0)\n -->\n<!-- Title: %3 Pages: 1 -->\n<svg width=\"242pt\" height=\"152pt\"\n viewBox=\"0.00 0.00 242.00 152.00\" xmlns=\"http://www.w3.org/2000/svg\" xmlns:xlink=\"http://www.w3.org/1999/xlink\">\n<g id=\"graph0\" class=\"graph\" transform=\"scale(1 1) rotate(0) translate(4 148)\">\n<title>%3</title>\n<polygon fill=\"white\" stroke=\"transparent\" points=\"-4,4 -4,-148 238,-148 238,4 -4,4\"/>\n<!-- C -->\n<g id=\"node1\" class=\"node\">\n<title>C</title>\n<ellipse fill=\"none\" stroke=\"black\" cx=\"27\" cy=\"-72\" rx=\"27\" ry=\"18\"/>\n<text text-anchor=\"middle\" x=\"27\" y=\"-68.3\" font-family=\"Times,serif\" font-size=\"14.00\">C</text>\n</g>\n<!-- A -->\n<g id=\"node2\" class=\"node\">\n<title>A</title>\n<ellipse fill=\"none\" stroke=\"black\" cx=\"117\" cy=\"-126\" rx=\"27\" ry=\"18\"/>\n<text text-anchor=\"middle\" x=\"117\" y=\"-122.3\" font-family=\"Times,serif\" font-size=\"14.00\">A</text>\n</g>\n<!-- C&#45;&gt;A -->\n<g id=\"edge1\" class=\"edge\">\n<title>C&#45;&gt;A</title>\n<path fill=\"none\" stroke=\"black\" d=\"M47.53,-83.98C59.38,-91.26 74.7,-100.66 87.84,-108.72\"/>\n<polygon fill=\"black\" stroke=\"black\" points=\"86.17,-111.8 96.52,-114.05 89.83,-105.84 86.17,-111.8\"/>\n</g>\n<!-- B -->\n<g id=\"node3\" class=\"node\">\n<title>B</title>\n<ellipse fill=\"none\" stroke=\"black\" cx=\"117\" cy=\"-72\" rx=\"27\" ry=\"18\"/>\n<text text-anchor=\"middle\" x=\"117\" y=\"-68.3\" font-family=\"Times,serif\" font-size=\"14.00\">B</text>\n</g>\n<!-- C&#45;&gt;B -->\n<g id=\"edge2\" class=\"edge\">\n<title>C&#45;&gt;B</title>\n<path fill=\"none\" stroke=\"black\" d=\"M54.4,-72C62.39,-72 71.31,-72 79.82,-72\"/>\n<polygon fill=\"black\" stroke=\"black\" points=\"79.92,-75.5 89.92,-72 79.92,-68.5 79.92,-75.5\"/>\n</g>\n<!-- G -->\n<g id=\"node6\" class=\"node\">\n<title>G</title>\n<ellipse fill=\"none\" stroke=\"black\" cx=\"207\" cy=\"-126\" rx=\"27\" ry=\"18\"/>\n<text text-anchor=\"middle\" x=\"207\" y=\"-122.3\" font-family=\"Times,serif\" font-size=\"14.00\">G</text>\n</g>\n<!-- A&#45;&gt;G -->\n<g id=\"edge5\" class=\"edge\">\n<title>A&#45;&gt;G</title>\n<path fill=\"none\" stroke=\"black\" d=\"M144.4,-126C152.39,-126 161.31,-126 169.82,-126\"/>\n<polygon fill=\"black\" stroke=\"black\" points=\"169.92,-129.5 179.92,-126 169.92,-122.5 169.92,-129.5\"/>\n</g>\n<!-- E -->\n<g id=\"node4\" class=\"node\">\n<title>E</title>\n<ellipse fill=\"none\" stroke=\"black\" cx=\"207\" cy=\"-45\" rx=\"27\" ry=\"18\"/>\n<text text-anchor=\"middle\" x=\"207\" y=\"-41.3\" font-family=\"Times,serif\" font-size=\"14.00\">E</text>\n</g>\n<!-- B&#45;&gt;E -->\n<g id=\"edge3\" class=\"edge\">\n<title>B&#45;&gt;E</title>\n<path fill=\"none\" stroke=\"black\" d=\"M142.05,-64.62C151.44,-61.74 162.36,-58.39 172.5,-55.28\"/>\n<polygon fill=\"black\" stroke=\"black\" points=\"173.75,-58.55 182.29,-52.28 171.7,-51.86 173.75,-58.55\"/>\n</g>\n<!-- D -->\n<g id=\"node5\" class=\"node\">\n<title>D</title>\n<ellipse fill=\"none\" stroke=\"black\" cx=\"27\" cy=\"-126\" rx=\"27\" ry=\"18\"/>\n<text text-anchor=\"middle\" x=\"27\" y=\"-122.3\" font-family=\"Times,serif\" font-size=\"14.00\">D</text>\n</g>\n<!-- D&#45;&gt;A -->\n<g id=\"edge4\" class=\"edge\">\n<title>D&#45;&gt;A</title>\n<path fill=\"none\" stroke=\"black\" d=\"M54.4,-126C62.39,-126 71.31,-126 79.82,-126\"/>\n<polygon fill=\"black\" stroke=\"black\" points=\"79.92,-129.5 89.92,-126 79.92,-122.5 79.92,-129.5\"/>\n</g>\n<!-- F -->\n<g id=\"node7\" class=\"node\">\n<title>F</title>\n<ellipse fill=\"none\" stroke=\"black\" cx=\"117\" cy=\"-18\" rx=\"27\" ry=\"18\"/>\n<text text-anchor=\"middle\" x=\"117\" y=\"-14.3\" font-family=\"Times,serif\" font-size=\"14.00\">F</text>\n</g>\n<!-- F&#45;&gt;E -->\n<g id=\"edge6\" class=\"edge\">\n<title>F&#45;&gt;E</title>\n<path fill=\"none\" stroke=\"black\" d=\"M142.05,-25.38C151.44,-28.26 162.36,-31.61 172.5,-34.72\"/>\n<polygon fill=\"black\" stroke=\"black\" points=\"171.7,-38.14 182.29,-37.72 173.75,-31.45 171.7,-38.14\"/>\n</g>\n</g>\n</svg>\n",
            "text/plain": [
              "<graphviz.graphs.Digraph at 0x7f8acc87a260>"
            ]
          },
          "metadata": {},
          "execution_count": 59
        }
      ]
    },
    {
      "cell_type": "code",
      "source": [
        "## Query relationship in python\n",
        "model_DAG = nx.DiGraph([\n",
        "    (\"C\", \"A\"),\n",
        "    (\"C\", \"B\"),\n",
        "    (\"B\", \"E\"),\n",
        "    (\"D\", \"A\"),\n",
        "    (\"A\", \"G\"),\n",
        "    (\"F\", \"E\")\n",
        "])"
      ],
      "metadata": {
        "id": "tPpxF3cvRHEy"
      },
      "execution_count": 62,
      "outputs": []
    },
    {
      "cell_type": "code",
      "source": [
        "print(\"Are D and C dependent?\")"
      ],
      "metadata": {
        "colab": {
          "base_uri": "https://localhost:8080/",
          "height": 0
        },
        "id": "GYbhs_V6P3Gp",
        "outputId": "c199d93b-3fd1-44b9-9143-666796ad3a91"
      },
      "execution_count": 53,
      "outputs": [
        {
          "output_type": "stream",
          "name": "stdout",
          "text": [
            "Are D and C dependent?\n"
          ]
        }
      ]
    },
    {
      "cell_type": "code",
      "source": [
        "print(not(nx.d_separated(model_DAG, {\"D\"}, {\"C\"}, {}))) ## d_seperated is a logic statement of independence"
      ],
      "metadata": {
        "colab": {
          "base_uri": "https://localhost:8080/",
          "height": 0
        },
        "id": "abAKNVl5QSi2",
        "outputId": "ab35eb12-fdd7-4966-e21b-e3f80c4b61c7"
      },
      "execution_count": 54,
      "outputs": [
        {
          "output_type": "stream",
          "name": "stdout",
          "text": [
            "False\n"
          ]
        }
      ]
    },
    {
      "cell_type": "code",
      "source": [
        "print(not(nx.d_separated(model_DAG, {\"D\"}, {\"C\"}, {\"A\"}))) ## print(\"Are D and C dependent given A?\")"
      ],
      "metadata": {
        "colab": {
          "base_uri": "https://localhost:8080/",
          "height": 0
        },
        "id": "-RMMnl8oQodg",
        "outputId": "025070ab-0080-46ec-da29-affc954b37e7"
      },
      "execution_count": 57,
      "outputs": [
        {
          "output_type": "stream",
          "name": "stdout",
          "text": [
            "True\n"
          ]
        }
      ]
    },
    {
      "cell_type": "code",
      "source": [
        "print(not(nx.d_separated(model_DAG, {\"D\"}, {\"C\"}, {\"G\"}))) ## D and C independent given G. Note: Relatipnship flows in causal chain"
      ],
      "metadata": {
        "colab": {
          "base_uri": "https://localhost:8080/"
        },
        "id": "f-54_g0hTWQX",
        "outputId": "8aa81ce5-af08-45fc-f2c8-593d46a74ab2"
      },
      "execution_count": 65,
      "outputs": [
        {
          "output_type": "stream",
          "name": "stdout",
          "text": [
            "True\n"
          ]
        }
      ]
    },
    {
      "cell_type": "code",
      "source": [
        "print(not(nx.d_separated(model_DAG, {\"G\"}, {\"F\"}, {})))"
      ],
      "metadata": {
        "colab": {
          "base_uri": "https://localhost:8080/"
        },
        "id": "9qLhON0BQvID",
        "outputId": "7522caac-70c8-4419-daa3-6ef5e066a5bd"
      },
      "execution_count": 66,
      "outputs": [
        {
          "output_type": "stream",
          "name": "stdout",
          "text": [
            "False\n"
          ]
        }
      ]
    },
    {
      "cell_type": "code",
      "source": [
        "print(not(nx.d_separated(model_DAG, {\"G\"}, {\"F\"}, {\"E\"}))) ## See your python note for detail"
      ],
      "metadata": {
        "colab": {
          "base_uri": "https://localhost:8080/"
        },
        "id": "-V0SbBziTIhI",
        "outputId": "68e51cf0-4e45-4308-e84a-88871cf5805c"
      },
      "execution_count": 68,
      "outputs": [
        {
          "output_type": "stream",
          "name": "stdout",
          "text": [
            "True\n"
          ]
        }
      ]
    },
    {
      "cell_type": "code",
      "source": [
        "### PRACTICE ON CAUSAL ASSUMPTIONS\n",
        "df = pd.DataFrame(dict(\n",
        "             profits_prev_6m=[1.0, 1.0, 1.0, 5.0, 5.0, 5.0],\n",
        "             consultancy=[0, 0, 1, 0, 1, 1],\n",
        "             profits_next_6m=[1, 1.1, 1.2, 5.5, 5.7, 5.7],\n",
        "         ))"
      ],
      "metadata": {
        "id": "n2DxDziJUX2F"
      },
      "execution_count": 69,
      "outputs": []
    },
    {
      "cell_type": "code",
      "source": [
        "df"
      ],
      "metadata": {
        "colab": {
          "base_uri": "https://localhost:8080/",
          "height": 238
        },
        "id": "t8_mrvOmeUGq",
        "outputId": "43101da9-26ba-43b1-9d94-ba258fcd82cd"
      },
      "execution_count": 71,
      "outputs": [
        {
          "output_type": "execute_result",
          "data": {
            "text/plain": [
              "   profits_prev_6m  consultancy  profits_next_6m\n",
              "0              1.0            0              1.0\n",
              "1              1.0            0              1.1\n",
              "2              1.0            1              1.2\n",
              "3              5.0            0              5.5\n",
              "4              5.0            1              5.7\n",
              "5              5.0            1              5.7"
            ],
            "text/html": [
              "\n",
              "  <div id=\"df-7e3d9a5e-9f78-4871-8275-fce1571c2199\" class=\"colab-df-container\">\n",
              "    <div>\n",
              "<style scoped>\n",
              "    .dataframe tbody tr th:only-of-type {\n",
              "        vertical-align: middle;\n",
              "    }\n",
              "\n",
              "    .dataframe tbody tr th {\n",
              "        vertical-align: top;\n",
              "    }\n",
              "\n",
              "    .dataframe thead th {\n",
              "        text-align: right;\n",
              "    }\n",
              "</style>\n",
              "<table border=\"1\" class=\"dataframe\">\n",
              "  <thead>\n",
              "    <tr style=\"text-align: right;\">\n",
              "      <th></th>\n",
              "      <th>profits_prev_6m</th>\n",
              "      <th>consultancy</th>\n",
              "      <th>profits_next_6m</th>\n",
              "    </tr>\n",
              "  </thead>\n",
              "  <tbody>\n",
              "    <tr>\n",
              "      <th>0</th>\n",
              "      <td>1.0</td>\n",
              "      <td>0</td>\n",
              "      <td>1.0</td>\n",
              "    </tr>\n",
              "    <tr>\n",
              "      <th>1</th>\n",
              "      <td>1.0</td>\n",
              "      <td>0</td>\n",
              "      <td>1.1</td>\n",
              "    </tr>\n",
              "    <tr>\n",
              "      <th>2</th>\n",
              "      <td>1.0</td>\n",
              "      <td>1</td>\n",
              "      <td>1.2</td>\n",
              "    </tr>\n",
              "    <tr>\n",
              "      <th>3</th>\n",
              "      <td>5.0</td>\n",
              "      <td>0</td>\n",
              "      <td>5.5</td>\n",
              "    </tr>\n",
              "    <tr>\n",
              "      <th>4</th>\n",
              "      <td>5.0</td>\n",
              "      <td>1</td>\n",
              "      <td>5.7</td>\n",
              "    </tr>\n",
              "    <tr>\n",
              "      <th>5</th>\n",
              "      <td>5.0</td>\n",
              "      <td>1</td>\n",
              "      <td>5.7</td>\n",
              "    </tr>\n",
              "  </tbody>\n",
              "</table>\n",
              "</div>\n",
              "    <div class=\"colab-df-buttons\">\n",
              "\n",
              "  <div class=\"colab-df-container\">\n",
              "    <button class=\"colab-df-convert\" onclick=\"convertToInteractive('df-7e3d9a5e-9f78-4871-8275-fce1571c2199')\"\n",
              "            title=\"Convert this dataframe to an interactive table.\"\n",
              "            style=\"display:none;\">\n",
              "\n",
              "  <svg xmlns=\"http://www.w3.org/2000/svg\" height=\"24px\" viewBox=\"0 -960 960 960\">\n",
              "    <path d=\"M120-120v-720h720v720H120Zm60-500h600v-160H180v160Zm220 220h160v-160H400v160Zm0 220h160v-160H400v160ZM180-400h160v-160H180v160Zm440 0h160v-160H620v160ZM180-180h160v-160H180v160Zm440 0h160v-160H620v160Z\"/>\n",
              "  </svg>\n",
              "    </button>\n",
              "\n",
              "  <style>\n",
              "    .colab-df-container {\n",
              "      display:flex;\n",
              "      gap: 12px;\n",
              "    }\n",
              "\n",
              "    .colab-df-convert {\n",
              "      background-color: #E8F0FE;\n",
              "      border: none;\n",
              "      border-radius: 50%;\n",
              "      cursor: pointer;\n",
              "      display: none;\n",
              "      fill: #1967D2;\n",
              "      height: 32px;\n",
              "      padding: 0 0 0 0;\n",
              "      width: 32px;\n",
              "    }\n",
              "\n",
              "    .colab-df-convert:hover {\n",
              "      background-color: #E2EBFA;\n",
              "      box-shadow: 0px 1px 2px rgba(60, 64, 67, 0.3), 0px 1px 3px 1px rgba(60, 64, 67, 0.15);\n",
              "      fill: #174EA6;\n",
              "    }\n",
              "\n",
              "    .colab-df-buttons div {\n",
              "      margin-bottom: 4px;\n",
              "    }\n",
              "\n",
              "    [theme=dark] .colab-df-convert {\n",
              "      background-color: #3B4455;\n",
              "      fill: #D2E3FC;\n",
              "    }\n",
              "\n",
              "    [theme=dark] .colab-df-convert:hover {\n",
              "      background-color: #434B5C;\n",
              "      box-shadow: 0px 1px 3px 1px rgba(0, 0, 0, 0.15);\n",
              "      filter: drop-shadow(0px 1px 2px rgba(0, 0, 0, 0.3));\n",
              "      fill: #FFFFFF;\n",
              "    }\n",
              "  </style>\n",
              "\n",
              "    <script>\n",
              "      const buttonEl =\n",
              "        document.querySelector('#df-7e3d9a5e-9f78-4871-8275-fce1571c2199 button.colab-df-convert');\n",
              "      buttonEl.style.display =\n",
              "        google.colab.kernel.accessAllowed ? 'block' : 'none';\n",
              "\n",
              "      async function convertToInteractive(key) {\n",
              "        const element = document.querySelector('#df-7e3d9a5e-9f78-4871-8275-fce1571c2199');\n",
              "        const dataTable =\n",
              "          await google.colab.kernel.invokeFunction('convertToInteractive',\n",
              "                                                    [key], {});\n",
              "        if (!dataTable) return;\n",
              "\n",
              "        const docLinkHtml = 'Like what you see? Visit the ' +\n",
              "          '<a target=\"_blank\" href=https://colab.research.google.com/notebooks/data_table.ipynb>data table notebook</a>'\n",
              "          + ' to learn more about interactive tables.';\n",
              "        element.innerHTML = '';\n",
              "        dataTable['output_type'] = 'display_data';\n",
              "        await google.colab.output.renderOutput(dataTable, element);\n",
              "        const docLink = document.createElement('div');\n",
              "        docLink.innerHTML = docLinkHtml;\n",
              "        element.appendChild(docLink);\n",
              "      }\n",
              "    </script>\n",
              "  </div>\n",
              "\n",
              "\n",
              "<div id=\"df-4ab4e4d0-a598-4c32-9f26-329925b64a79\">\n",
              "  <button class=\"colab-df-quickchart\" onclick=\"quickchart('df-4ab4e4d0-a598-4c32-9f26-329925b64a79')\"\n",
              "            title=\"Suggest charts\"\n",
              "            style=\"display:none;\">\n",
              "\n",
              "<svg xmlns=\"http://www.w3.org/2000/svg\" height=\"24px\"viewBox=\"0 0 24 24\"\n",
              "     width=\"24px\">\n",
              "    <g>\n",
              "        <path d=\"M19 3H5c-1.1 0-2 .9-2 2v14c0 1.1.9 2 2 2h14c1.1 0 2-.9 2-2V5c0-1.1-.9-2-2-2zM9 17H7v-7h2v7zm4 0h-2V7h2v10zm4 0h-2v-4h2v4z\"/>\n",
              "    </g>\n",
              "</svg>\n",
              "  </button>\n",
              "\n",
              "<style>\n",
              "  .colab-df-quickchart {\n",
              "      --bg-color: #E8F0FE;\n",
              "      --fill-color: #1967D2;\n",
              "      --hover-bg-color: #E2EBFA;\n",
              "      --hover-fill-color: #174EA6;\n",
              "      --disabled-fill-color: #AAA;\n",
              "      --disabled-bg-color: #DDD;\n",
              "  }\n",
              "\n",
              "  [theme=dark] .colab-df-quickchart {\n",
              "      --bg-color: #3B4455;\n",
              "      --fill-color: #D2E3FC;\n",
              "      --hover-bg-color: #434B5C;\n",
              "      --hover-fill-color: #FFFFFF;\n",
              "      --disabled-bg-color: #3B4455;\n",
              "      --disabled-fill-color: #666;\n",
              "  }\n",
              "\n",
              "  .colab-df-quickchart {\n",
              "    background-color: var(--bg-color);\n",
              "    border: none;\n",
              "    border-radius: 50%;\n",
              "    cursor: pointer;\n",
              "    display: none;\n",
              "    fill: var(--fill-color);\n",
              "    height: 32px;\n",
              "    padding: 0;\n",
              "    width: 32px;\n",
              "  }\n",
              "\n",
              "  .colab-df-quickchart:hover {\n",
              "    background-color: var(--hover-bg-color);\n",
              "    box-shadow: 0 1px 2px rgba(60, 64, 67, 0.3), 0 1px 3px 1px rgba(60, 64, 67, 0.15);\n",
              "    fill: var(--button-hover-fill-color);\n",
              "  }\n",
              "\n",
              "  .colab-df-quickchart-complete:disabled,\n",
              "  .colab-df-quickchart-complete:disabled:hover {\n",
              "    background-color: var(--disabled-bg-color);\n",
              "    fill: var(--disabled-fill-color);\n",
              "    box-shadow: none;\n",
              "  }\n",
              "\n",
              "  .colab-df-spinner {\n",
              "    border: 2px solid var(--fill-color);\n",
              "    border-color: transparent;\n",
              "    border-bottom-color: var(--fill-color);\n",
              "    animation:\n",
              "      spin 1s steps(1) infinite;\n",
              "  }\n",
              "\n",
              "  @keyframes spin {\n",
              "    0% {\n",
              "      border-color: transparent;\n",
              "      border-bottom-color: var(--fill-color);\n",
              "      border-left-color: var(--fill-color);\n",
              "    }\n",
              "    20% {\n",
              "      border-color: transparent;\n",
              "      border-left-color: var(--fill-color);\n",
              "      border-top-color: var(--fill-color);\n",
              "    }\n",
              "    30% {\n",
              "      border-color: transparent;\n",
              "      border-left-color: var(--fill-color);\n",
              "      border-top-color: var(--fill-color);\n",
              "      border-right-color: var(--fill-color);\n",
              "    }\n",
              "    40% {\n",
              "      border-color: transparent;\n",
              "      border-right-color: var(--fill-color);\n",
              "      border-top-color: var(--fill-color);\n",
              "    }\n",
              "    60% {\n",
              "      border-color: transparent;\n",
              "      border-right-color: var(--fill-color);\n",
              "    }\n",
              "    80% {\n",
              "      border-color: transparent;\n",
              "      border-right-color: var(--fill-color);\n",
              "      border-bottom-color: var(--fill-color);\n",
              "    }\n",
              "    90% {\n",
              "      border-color: transparent;\n",
              "      border-bottom-color: var(--fill-color);\n",
              "    }\n",
              "  }\n",
              "</style>\n",
              "\n",
              "  <script>\n",
              "    async function quickchart(key) {\n",
              "      const quickchartButtonEl =\n",
              "        document.querySelector('#' + key + ' button');\n",
              "      quickchartButtonEl.disabled = true;  // To prevent multiple clicks.\n",
              "      quickchartButtonEl.classList.add('colab-df-spinner');\n",
              "      try {\n",
              "        const charts = await google.colab.kernel.invokeFunction(\n",
              "            'suggestCharts', [key], {});\n",
              "      } catch (error) {\n",
              "        console.error('Error during call to suggestCharts:', error);\n",
              "      }\n",
              "      quickchartButtonEl.classList.remove('colab-df-spinner');\n",
              "      quickchartButtonEl.classList.add('colab-df-quickchart-complete');\n",
              "    }\n",
              "    (() => {\n",
              "      let quickchartButtonEl =\n",
              "        document.querySelector('#df-4ab4e4d0-a598-4c32-9f26-329925b64a79 button');\n",
              "      quickchartButtonEl.style.display =\n",
              "        google.colab.kernel.accessAllowed ? 'block' : 'none';\n",
              "    })();\n",
              "  </script>\n",
              "</div>\n",
              "    </div>\n",
              "  </div>\n"
            ],
            "application/vnd.google.colaboratory.intrinsic+json": {
              "type": "dataframe",
              "variable_name": "df",
              "summary": "{\n  \"name\": \"df\",\n  \"rows\": 6,\n  \"fields\": [\n    {\n      \"column\": \"profits_prev_6m\",\n      \"properties\": {\n        \"dtype\": \"number\",\n        \"std\": 2.1908902300206643,\n        \"min\": 1.0,\n        \"max\": 5.0,\n        \"num_unique_values\": 2,\n        \"samples\": [\n          5.0,\n          1.0\n        ],\n        \"semantic_type\": \"\",\n        \"description\": \"\"\n      }\n    },\n    {\n      \"column\": \"consultancy\",\n      \"properties\": {\n        \"dtype\": \"number\",\n        \"std\": 0,\n        \"min\": 0,\n        \"max\": 1,\n        \"num_unique_values\": 2,\n        \"samples\": [\n          1,\n          0\n        ],\n        \"semantic_type\": \"\",\n        \"description\": \"\"\n      }\n    },\n    {\n      \"column\": \"profits_next_6m\",\n      \"properties\": {\n        \"dtype\": \"number\",\n        \"std\": 2.4848876567496303,\n        \"min\": 1.0,\n        \"max\": 5.7,\n        \"num_unique_values\": 5,\n        \"samples\": [\n          1.1,\n          5.7\n        ],\n        \"semantic_type\": \"\",\n        \"description\": \"\"\n      }\n    }\n  ]\n}"
            }
          },
          "metadata": {},
          "execution_count": 71
        }
      ]
    },
    {
      "cell_type": "code",
      "source": [
        "## Compare average of treatment and control group\n",
        "(df.query(\"consultancy == 1\")[\"profits_next_6m\"].mean() - df.query(\"consultancy == 0\")[\"profits_next_6m\"].mean())"
      ],
      "metadata": {
        "colab": {
          "base_uri": "https://localhost:8080/"
        },
        "id": "ApxURhC3eVAo",
        "outputId": "784c5120-a131-469d-de02-1d8ab699629a"
      },
      "execution_count": 77,
      "outputs": [
        {
          "output_type": "execute_result",
          "data": {
            "text/plain": [
              "1.666666666666667"
            ]
          },
          "metadata": {},
          "execution_count": 77
        }
      ]
    },
    {
      "cell_type": "code",
      "source": [
        "avg_df = (df\n",
        "          .groupby([\"consultancy\", \"profits_prev_6m\"])\n",
        "                   [\"profits_next_6m\"]\n",
        "                   .mean())"
      ],
      "metadata": {
        "id": "mhuDy7fYfl5G"
      },
      "execution_count": 78,
      "outputs": []
    },
    {
      "cell_type": "code",
      "source": [
        "avg_df"
      ],
      "metadata": {
        "colab": {
          "base_uri": "https://localhost:8080/"
        },
        "id": "RiACw60DhUKx",
        "outputId": "74e7769e-b9df-4295-d8ba-874761c88afe"
      },
      "execution_count": 79,
      "outputs": [
        {
          "output_type": "execute_result",
          "data": {
            "text/plain": [
              "consultancy  profits_prev_6m\n",
              "0            1.0                1.05\n",
              "             5.0                5.50\n",
              "1            1.0                1.20\n",
              "             5.0                5.70\n",
              "Name: profits_next_6m, dtype: float64"
            ]
          },
          "metadata": {},
          "execution_count": 79
        }
      ]
    },
    {
      "cell_type": "code",
      "source": [
        "avg_df.loc[1] - avg_df.loc[0]"
      ],
      "metadata": {
        "colab": {
          "base_uri": "https://localhost:8080/"
        },
        "id": "QhpQHW8KhWdk",
        "outputId": "808bcc3b-3e50-4426-a331-50f3b3f15c9d"
      },
      "execution_count": 80,
      "outputs": [
        {
          "output_type": "execute_result",
          "data": {
            "text/plain": [
              "profits_prev_6m\n",
              "1.0    0.15\n",
              "5.0    0.20\n",
              "Name: profits_next_6m, dtype: float64"
            ]
          },
          "metadata": {},
          "execution_count": 80
        }
      ]
    },
    {
      "cell_type": "code",
      "source": [],
      "metadata": {
        "id": "JLDE7OPwhlOJ"
      },
      "execution_count": null,
      "outputs": []
    }
  ]
}